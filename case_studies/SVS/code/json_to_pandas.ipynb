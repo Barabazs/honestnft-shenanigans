{
 "cells": [
  {
   "cell_type": "code",
   "execution_count": 1,
   "id": "17330e23-05dc-4328-97fe-a3ad5555542e",
   "metadata": {},
   "outputs": [],
   "source": [
    "import json\n",
    "import pandas as pd\n",
    "\n",
    "FILE = \"../data/all_alt.json\"\n",
    "with open(FILE) as json_file:\n",
    "    data = json.load(json_file)\n",
    "\n",
    "transformed_list = []\n",
    "\n",
    "# transform data into list of dictionaries\n",
    "for i in range(0, len(data)):\n",
    "    new_dict = {}\n",
    "    for j in range(0, len(data[i][\"attributes\"])):\n",
    "        key = data[i][\"attributes\"][j][\"trait_type\"]\n",
    "        value = data[i][\"attributes\"][j][\"value\"]\n",
    "        new_dict[key] = value\n",
    "\n",
    "    new_dict[\"TOKEN_ID\"] = i + 1\n",
    "    transformed_list.append(new_dict)\n",
    "\n",
    "\n",
    "df = pd.DataFrame(transformed_list)\n",
    "df.to_csv(\"../data/alt_distribution.csv\")"
   ]
  },
  {
   "cell_type": "code",
   "execution_count": null,
   "id": "131f1585-7d3d-4636-be85-b9c65dee7604",
   "metadata": {},
   "outputs": [],
   "source": []
  }
 ],
 "metadata": {
  "kernelspec": {
   "display_name": "Python 3",
   "language": "python",
   "name": "python3"
  },
  "language_info": {
   "codemirror_mode": {
    "name": "ipython",
    "version": 3
   },
   "file_extension": ".py",
   "mimetype": "text/x-python",
   "name": "python",
   "nbconvert_exporter": "python",
   "pygments_lexer": "ipython3",
   "version": "3.8.8"
  }
 },
 "nbformat": 4,
 "nbformat_minor": 5
}
