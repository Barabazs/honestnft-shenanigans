{
 "cells": [
  {
   "cell_type": "code",
   "execution_count": 3,
   "id": "2633cba4-9857-4d6b-878c-368e661f0502",
   "metadata": {},
   "outputs": [
    {
     "name": "stdout",
     "output_type": "stream",
     "text": [
      "43\n"
     ]
    }
   ],
   "source": [
    "import plotly.express as px\n",
    "import pandas as pd\n",
    "from random import randint\n",
    "\n",
    "COLLECTION_NAME = \"SVS\"\n",
    "\n",
    "FAIRNESS = 10\n",
    "GAS_EFFICIENCY = 7\n",
    "UX =  7\n",
    "TRUSTLESSNESS =  3\n",
    "AFFORDABILITY =  9\n",
    "SIMPLICITY =  7\n",
    "r = [FAIRNESS, GAS_EFFICIENCY,  UX, TRUSTLESSNESS, AFFORDABILITY, SIMPLICITY]\n",
    "    \n",
    "df = pd.DataFrame(dict(\n",
    "    r=r,\n",
    "    theta=[\"Fairness\", \"Gas efficiency\",  \"User Experience\", \"Trustlessness\", \"Affordability\", \"Simplicity\"]))\n",
    "fig = px.line_polar(df, r='r', theta='theta', line_close=True, range_r = [0,10])\n",
    "fig.update_traces(fill='toself')\n",
    "fig.update_layout(title_text = 'HonestNFT HonestScore - Sneaky Vampire Syndicate',  title_x=0.5)\n",
    "\n",
    "fig.write_image('../figures/honest_score.png'.format(COLLECTION_NAME))\n"
   ]
  },
  {
   "cell_type": "code",
   "execution_count": null,
   "id": "38198cef-ef7d-4e1c-bd3a-32984e984dcf",
   "metadata": {},
   "outputs": [],
   "source": []
  }
 ],
 "metadata": {
  "kernelspec": {
   "display_name": "Python 3",
   "language": "python",
   "name": "python3"
  },
  "language_info": {
   "codemirror_mode": {
    "name": "ipython",
    "version": 3
   },
   "file_extension": ".py",
   "mimetype": "text/x-python",
   "name": "python",
   "nbconvert_exporter": "python",
   "pygments_lexer": "ipython3",
   "version": "3.8.8"
  }
 },
 "nbformat": 4,
 "nbformat_minor": 5
}
