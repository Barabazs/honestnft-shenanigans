{
 "cells": [
  {
   "cell_type": "code",
   "execution_count": 2,
   "id": "b3813376-b60e-4c6b-8618-129974eceaed",
   "metadata": {},
   "outputs": [
    {
     "name": "stdout",
     "output_type": "stream",
     "text": [
      "PoW Solution:  0000d299e6ec960e2ae1c5e623a9fddf414b766b7a1259832b5a473be461a6c2\n",
      "Nonce:  113930\n",
      "Random Seed:  137\n",
      "Total time:  1.7440249919891357\n"
     ]
    }
   ],
   "source": [
    "from Crypto.Hash import keccak\n",
    "from random import seed\n",
    "from random import randint\n",
    "import time\n",
    "\n",
    "string = \"\"\n",
    "nonce = 0\n",
    "seed(1)\n",
    "ran_num = randint(0,1000)\n",
    "\n",
    "t0 = time.time()\n",
    "while(not string.startswith(\"0000\")):\n",
    "    value = str.encode(str(nonce + ran_num))\n",
    "    k = keccak.new(digest_bits=256)\n",
    "    k.update(value)\n",
    "    string = k.hexdigest()\n",
    "    nonce+=1\n",
    "t1 = time.time()\n",
    "\n",
    "\n",
    "print(\"PoW Solution: \", string)\n",
    "print(\"Nonce: \", nonce)\n",
    "print(\"Random Seed: \", ran_num)\n",
    "print(\"Total time: \", t1-t0)"
   ]
  },
  {
   "cell_type": "code",
   "execution_count": null,
   "id": "31aabf61-a4ff-4877-a8e1-c27ddfe62006",
   "metadata": {},
   "outputs": [],
   "source": []
  }
 ],
 "metadata": {
  "kernelspec": {
   "display_name": "Python 3",
   "language": "python",
   "name": "python3"
  },
  "language_info": {
   "codemirror_mode": {
    "name": "ipython",
    "version": 3
   },
   "file_extension": ".py",
   "mimetype": "text/x-python",
   "name": "python",
   "nbconvert_exporter": "python",
   "pygments_lexer": "ipython3",
   "version": "3.8.8"
  }
 },
 "nbformat": 4,
 "nbformat_minor": 5
}
