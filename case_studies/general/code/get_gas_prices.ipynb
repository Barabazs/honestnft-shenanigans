{
 "cells": [
  {
   "cell_type": "code",
   "execution_count": 8,
   "id": "752c187d-5068-44c0-a582-4204daa4420d",
   "metadata": {},
   "outputs": [
    {
     "name": "stdout",
     "output_type": "stream",
     "text": [
      "Total Blocks:  212\n",
      "Total Length of List:  212\n",
      "first base fee:  89.024973653\n",
      "last base fee:  106.795220785\n"
     ]
    }
   ],
   "source": [
    "from web3 import Web3\n",
    "import matplotlib.pyplot as plt\n",
    "import pandas as pd\n",
    "from datetime import datetime\n",
    "import time\n",
    "\n",
    "COLLECTION_NAME = \"sss\"\n",
    "COLLECTION_FOLDER = \"SSS\"\n",
    "\n",
    "ENDPOINT = \"\"\n",
    "w3 = Web3(Web3.HTTPProvider(ENDPOINT))\n",
    "WEI_TO_GWEI_CONSTANT = 1e9 # to GWEI\n",
    "START_BLOCK = 13276866\n",
    "END_BLOCK = 13276877\n",
    "EDGE_BLOCKS = 100\n",
    "MAX_BLOCK_PULL = 1024\n",
    "\n",
    "first_block = START_BLOCK - EDGE_BLOCKS\n",
    "last_block = END_BLOCK + EDGE_BLOCKS\n",
    "\n",
    "\n",
    "blocks_left = last_block - first_block + 1\n",
    "blocks_to_grab = min(MAX_BLOCK_PULL, blocks_left)\n",
    "block_list = []\n",
    "print(\"Total Blocks: \", blocks_left)\n",
    "\n",
    "while blocks_left > 0:\n",
    "    blocks = w3.eth.fee_history(blocks_to_grab, last_block, [10, 90]) # args: block_count, newest_block,\n",
    "    last_block = blocks[\"oldestBlock\"]\n",
    "    \n",
    "    blocks_to_grab = min(MAX_BLOCK_PULL, last_block - first_block + 1)\n",
    "    blocks_left -= len(blocks[\"baseFeePerGas\"][:-1]) \n",
    "    \n",
    "    new_start_of_list = blocks[\"baseFeePerGas\"][:-1]\n",
    "    new_start_of_list.extend(block_list[1:])\n",
    "    block_list = new_start_of_list\n",
    "\n",
    "print(\"Total Length of List: \", len(block_list))\n",
    "print(\"first base fee: \", block_list[0] / WEI_TO_GWEI_CONSTANT) \n",
    "print(\"last base fee: \", block_list[-1] / WEI_TO_GWEI_CONSTANT) \n",
    "\n",
    "# get the timestamp for every block\n",
    "block_numbers = list(range(first_block, END_BLOCK + EDGE_BLOCKS + 1)) \n",
    "time_list = []\n",
    "for i in range(0, len(block_list)):\n",
    "    time_list.append(int(w3.eth.getBlock(block_numbers[i]).timestamp)) \n",
    "    block_list[i] = block_list[i] / WEI_TO_GWEI_CONSTANT\n",
    "    \n",
    "\n",
    "data = pd.DataFrame()\n",
    "data[\"block_numbers\"] = block_numbers\n",
    "data[\"timestamps\"] = time_list\n",
    "data[\"timestamps\"]=(pd.to_datetime(data[\"timestamps\"], unit=\"s\")) \n",
    "data[\"base_fee\"] =  block_list\n",
    "\n",
    "data.to_csv(\"../../{}/data/gas_data.csv\".format(COLLECTION_NAME))"
   ]
  },
  {
   "cell_type": "code",
   "execution_count": null,
   "id": "a6e3e234-c78c-4691-ad79-4c2af2a51a03",
   "metadata": {},
   "outputs": [],
   "source": []
  }
 ],
 "metadata": {
  "kernelspec": {
   "display_name": "Python 3",
   "language": "python",
   "name": "python3"
  },
  "language_info": {
   "codemirror_mode": {
    "name": "ipython",
    "version": 3
   },
   "file_extension": ".py",
   "mimetype": "text/x-python",
   "name": "python",
   "nbconvert_exporter": "python",
   "pygments_lexer": "ipython3",
   "version": "3.8.8"
  }
 },
 "nbformat": 4,
 "nbformat_minor": 5
}
