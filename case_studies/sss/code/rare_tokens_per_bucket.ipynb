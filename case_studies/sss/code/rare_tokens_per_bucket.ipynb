{
 "cells": [
  {
   "cell_type": "code",
   "execution_count": 3,
   "id": "9c217029-93f4-42ea-b618-85eb7225041d",
   "metadata": {},
   "outputs": [
    {
     "data": {
      "image/png": "[encoded data removed]",
      "text/plain": [
       "<Figure size 432x288 with 1 Axes>"
      ]
     },
     "metadata": {
      "needs_background": "light"
     },
     "output_type": "display_data"
    }
   ],
   "source": [
    "\"\"\"\n",
    "Generate Plot\n",
    "\"\"\"\n",
    "import pandas as pd\n",
    "import matplotlib.pyplot as plt\n",
    "\n",
    "TOKENS = 10000\n",
    "BUCKET_WIDTH = 500\n",
    "BINS = int(TOKENS / BUCKET_WIDTH)\n",
    "BAR_WIDTH = 350\n",
    "PLOT_COLOR = \"r\"\n",
    "LOWER_BOUND = -1000\n",
    "UPPER_BOUND = 11200\n",
    "\n",
    "grifter_addresses = [\n",
    "    \"0x3D9f185369eC7A6fD1be7C1B9f828C9C35A862Bd\",\n",
    "    \"0xCEFcDBfd67D70C091a4a7a4696ebBc94c06B832E\",\n",
    "    \"0xD9ADcc4b8d9aD089f262C0F322401B944cd43231\",\n",
    "    \"0x0D78579978566EE2aCf97fDb2f37602C801F42ff\",\n",
    "    \"0xB3879479eC82638e3c5E4247678eD6fCa771880b\",\n",
    "    \"0xfb8c9c42b9ba4502a72b0ba1bab35640f44c2dab\",\n",
    "]\n",
    "\n",
    "for i in range(0, len(grifter_addresses)):\n",
    "    grifter_addresses[i] = grifter_addresses[i].lower()\n",
    "\n",
    "\n",
    "minting = pd.read_csv(\"../data/superlativesecretsociety_minting.csv\")\n",
    "grifter_minting = minting[minting['to_account'].isin(grifter_addresses)]\n",
    "grifter_mint_count = len(grifter_minting)\n",
    "\n",
    "grifter_dict = {}\n",
    "total_sales = 0\n",
    "\n",
    "for i in range(0, BINS): \n",
    "    lower = i * BUCKET_WIDTH    \n",
    "    upper = (i + 1) * BUCKET_WIDTH\n",
    "\n",
    "    temp_grifter_df = grifter_minting[ (grifter_minting[\"rank\"] > lower) & (grifter_minting[\"rank\"] < upper)]\n",
    "\n",
    "    grifter_dict[lower] = len(temp_grifter_df) / grifter_mint_count * 100\n",
    "\n",
    "\n",
    "plt.bar(grifter_dict.keys(), grifter_dict.values(), width = BAR_WIDTH, label='\"Luckiest\" Minters (Minted {} NFTs)'.format(grifter_mint_count), color = PLOT_COLOR, edgecolor ='black')\n",
    "plt.legend(loc='upper right')\n",
    "plt.xlabel(\"Rarity Bucket\")\n",
    "plt.ylabel(\"Relative Frequency (%)\")\n",
    "plt.title(\"Tokens minted per Rarity bucket\")\n",
    "plt.xlim(LOWER_BOUND, UPPER_BOUND)\n",
    "plt.savefig(\"../figures/luckiest_minters.png\", dpi = 300)"
   ]
  },
  {
   "cell_type": "code",
   "execution_count": null,
   "id": "467c1440-bb0d-49a1-8ff0-35cc027fae46",
   "metadata": {},
   "outputs": [],
   "source": []
  }
 ],
 "metadata": {
  "kernelspec": {
   "display_name": "Python 3",
   "language": "python",
   "name": "python3"
  },
  "language_info": {
   "codemirror_mode": {
    "name": "ipython",
    "version": 3
   },
   "file_extension": ".py",
   "mimetype": "text/x-python",
   "name": "python",
   "nbconvert_exporter": "python",
   "pygments_lexer": "ipython3",
   "version": "3.8.8"
  }
 },
 "nbformat": 4,
 "nbformat_minor": 5
}
