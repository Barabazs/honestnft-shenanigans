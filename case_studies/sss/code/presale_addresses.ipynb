{
 "cells": [
  {
   "cell_type": "code",
   "execution_count": 2,
   "id": "39a5b8ce-16e4-461d-aa48-59d5ff74d066",
   "metadata": {},
   "outputs": [
    {
     "name": "stdout",
     "output_type": "stream",
     "text": [
      "{'0x6377fa89e6063bf89c59617229b8c6ee8e148f7e', '0x0c54a765c77a88d9cda0bd7ad9b10422848d92ef', '0xf98c3c402f9db363d92e9bb15afabfb9c0290114', '0x4e0843e8daa53406121588feebf0cde0f1fcefc1'}\n"
     ]
    }
   ],
   "source": [
    "import pandas as pd\n",
    "\n",
    "addresses = pd.read_csv(\"../data/presales_sss.csv\")\n",
    "addresses[\"ETH Address\"] = addresses[\"ETH Address\"].str.lower()\n",
    "addresses[\"Addresses\"] = addresses[\"Addresses\"].str.lower()\n",
    "\n",
    "addresses_old = set(addresses[\"ETH Address\"])\n",
    "addresses_new = set(addresses[\"Addresses\"])\n",
    "\n",
    "new_set = addresses_new - addresses_old\n",
    "print(new_set)"
   ]
  },
  {
   "cell_type": "code",
   "execution_count": null,
   "id": "78598f40-aaf7-41f1-84b5-b1f7fee58ae0",
   "metadata": {},
   "outputs": [],
   "source": []
  }
 ],
 "metadata": {
  "kernelspec": {
   "display_name": "Python 3",
   "language": "python",
   "name": "python3"
  },
  "language_info": {
   "codemirror_mode": {
    "name": "ipython",
    "version": 3
   },
   "file_extension": ".py",
   "mimetype": "text/x-python",
   "name": "python",
   "nbconvert_exporter": "python",
   "pygments_lexer": "ipython3",
   "version": "3.8.8"
  }
 },
 "nbformat": 4,
 "nbformat_minor": 5
}
