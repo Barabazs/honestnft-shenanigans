{
 "cells": [
  {
   "cell_type": "code",
   "execution_count": null,
   "id": "101d3a6f-aa14-42e9-b0ba-62a611ae37c5",
   "metadata": {
    "tags": [
     "parameters"
    ]
   },
   "outputs": [],
   "source": [
    "\"\"\"\n",
    "Update Parameters Here\n",
    "\"\"\"\n",
    "COLLECTION = \"8_BIT_UNIVERSE\"\n",
    "CONTRACT = \"0xaAe71BBbaA359BE0d81D5CBc9B1E88A8b7c58a94\"\n",
    "OPENSEA_API_KEY = \"YOUR_API_KEY\""
   ]
  },
  {
   "cell_type": "code",
   "execution_count": null,
   "id": "437331d9-64e0-484f-bf1b-41dcac416749",
   "metadata": {},
   "outputs": [],
   "source": [
    "\"\"\"\n",
    "@author: mdigi14\n",
    "\"\"\"\n",
    "\n",
    "import requests\n",
    "import pandas as pd\n",
    "import time\n",
    "import yaml\n",
    "\n",
    "credentials = yaml.load(open(\"../.secrets.yml\"), Loader=yaml.FullLoader)\n",
    "\n",
    "\n",
    "ETHER_UNITS = 1e18\n",
    "LIMIT = 200\n",
    "MAX_OFFSET = 10000\n",
    "MAX_TOKEN_ID = 9999\n",
    "OPENSEA_API_KEY = credentials[\"personal\"][\"opensea_api_key\"]\n",
    "\n",
    "\"\"\"\n",
    "Helper Functions\n",
    "\"\"\"\n",
    "\n",
    "\n",
    "def get_all_sales():\n",
    "    events = []\n",
    "    new_events = []\n",
    "    offset = 0\n",
    "\n",
    "    while True:\n",
    "        query_string = {\n",
    "            \"asset_contract_address\": CONTRACT,\n",
    "            \"event_type\": \"successful\",\n",
    "            \"limit\": LIMIT,\n",
    "            \"offset\": offset,\n",
    "        }\n",
    "\n",
    "        headers = {\"Accept\": \"application/json\", \"X-API-KEY\": OPENSEA_API_KEY}\n",
    "\n",
    "        response = requests.request(\n",
    "            \"GET\",\n",
    "            url=\"https://api.opensea.io/api/v1/events\",\n",
    "            headers=headers,\n",
    "            params=query_string,\n",
    "        ).json()\n",
    "        new_events = response[\"asset_events\"]\n",
    "        events.extend(new_events)\n",
    "\n",
    "        if len(new_events) < LIMIT or offset > MAX_OFFSET:\n",
    "            if offset > MAX_OFFSET:\n",
    "                print(\n",
    "                    \"Final offset was\",\n",
    "                    offset,\n",
    "                    \". May not have full sale dataset.\\nSee 'find_minting_data.ipynb' for handling offsets above 10k\",\n",
    "                )\n",
    "            break\n",
    "        offset += LIMIT\n",
    "\n",
    "    return events"
   ]
  },
  {
   "cell_type": "code",
   "execution_count": null,
   "id": "8ea86948-5b20-43c0-94d3-a6dda6e4f3e0",
   "metadata": {},
   "outputs": [],
   "source": [
    "\"\"\"\n",
    "Generate Dataset\n",
    "\"\"\"\n",
    "events = get_all_sales()\n",
    "events_list = []\n",
    "\n",
    "for event in events:\n",
    "    event_dict = dict()\n",
    "\n",
    "    try:\n",
    "        event_dict = {\n",
    "            \"id\": int(event[\"asset\"][\"token_id\"]),\n",
    "            \"price\": float(event[\"total_price\"]) / ETHER_UNITS,\n",
    "            \"date_sold\": event[\"transaction\"][\"timestamp\"],\n",
    "        }\n",
    "\n",
    "        events_list.append(event_dict)\n",
    "    except:\n",
    "        continue\n",
    "\n",
    "data = pd.DataFrame(events_list)\n",
    "data = data.sort_values(by=[\"date_sold\"]).drop_duplicates(\n",
    "    \"id\", keep=\"first\"\n",
    ")  # keep first sale of a token only\n",
    "data.to_csv(\"first_flip_revenue/{}_first_sale_revenue.csv\".format(COLLECTION))"
   ]
  }
 ],
 "metadata": {
  "kernelspec": {
   "display_name": "Python 3 (ipykernel)",
   "language": "python",
   "name": "python3"
  },
  "language_info": {
   "codemirror_mode": {
    "name": "ipython",
    "version": 3
   },
   "file_extension": ".py",
   "mimetype": "text/x-python",
   "name": "python",
   "nbconvert_exporter": "python",
   "pygments_lexer": "ipython3",
   "version": "3.9.7"
  }
 },
 "nbformat": 4,
 "nbformat_minor": 5
}
