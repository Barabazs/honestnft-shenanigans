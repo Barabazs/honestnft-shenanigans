{
 "cells": [
  {
   "cell_type": "code",
   "execution_count": null,
   "id": "1714dbea-4284-4662-a134-044b22ad9a0b",
   "metadata": {},
   "outputs": [],
   "source": [
    "\"\"\"\n",
    "@author: mdigi14\n",
    "\"\"\"\n",
    "\n",
    "import pandas as pd\n",
    "import matplotlib.pyplot as plt\n",
    "\n",
    "\n",
    "\"\"\"\n",
    "Update Parameters Here\n",
    "\"\"\"\n",
    "FILE = \"quaks\"\n",
    "TOKEN_COL = 'TOKEN_ID'\n",
    "\n",
    "Y_LIM = 6000 # just set to token count unless you want to zoom in \n",
    "LOWER_BOUND = 0\n",
    "UPPER_BOUND = 6000\n",
    "TOP_N = 6000\n",
    "\n",
    "\n",
    "\"\"\"\n",
    "Helper Functions\n",
    "\"\"\"\n",
    "\n",
    "def print_graph(RARITY_DB):\n",
    "    if TOKEN_COL == 'TOKEN_NAME':\n",
    "        RARITY_DB['TOKEN_ID'] = RARITY_DB['TOKEN_NAME'].str.split('#').str[1].astype(int)\n",
    "\n",
    "    RARITY_DB = RARITY_DB.sort_values('TOKEN_ID')\n",
    "\n",
    "    ax = RARITY_DB.plot.scatter(x='TOKEN_ID', y='Rank', grid=True, alpha=.25, title= \"{} - Token ID vs Rank (low rank is more rare)\".format(FILE), figsize=(14, 7))\n",
    "\n",
    "    ax.set_xlabel(\"Token ID\")\n",
    "    ax.set_ylabel(\"Rarity Rank\")\n",
    "    plt.xlim(LOWER_BOUND, UPPER_BOUND)\n",
    "    plt.ylim(0, TOP_N)"
   ]
  },
  {
   "cell_type": "code",
   "execution_count": null,
   "id": "d13f4e80-21e5-4654-a952-06f537137a4b",
   "metadata": {},
   "outputs": [],
   "source": [
    "\"\"\"\n",
    "Generate Plot\n",
    "\"\"\"\n",
    "\n",
    "PATH = \"../metadata/rarity_data/{}_raritytools.csv\".format(FILE)\n",
    "RARITY_DB = pd.read_csv(PATH)\n",
    "RARITY_DB = RARITY_DB[RARITY_DB['TOKEN_ID'].duplicated() == False]\n",
    "  print_graph(RARITY_DB)  \n"
   ]
  }
 ],
 "metadata": {
  "kernelspec": {
   "display_name": "Python 3",
   "language": "python",
   "name": "python3"
  },
  "language_info": {
   "codemirror_mode": {
    "name": "ipython",
    "version": 3
   },
   "file_extension": ".py",
   "mimetype": "text/x-python",
   "name": "python",
   "nbconvert_exporter": "python",
   "pygments_lexer": "ipython3",
   "version": "3.7.6"
  }
 },
 "nbformat": 4,
 "nbformat_minor": 5
}
