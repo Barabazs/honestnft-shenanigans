{
 "cells": [
  {
   "cell_type": "code",
   "execution_count": null,
   "id": "d238137c",
   "metadata": {},
   "outputs": [],
   "source": [
    "import requests\n",
    "import pandas as pd\n",
    "import numpy as np\n",
    "import matplotlib.pyplot as plt\n",
    "import time\n",
    "import seaborn as sns\n",
    "\n",
    "sns.set_style(\"darkgrid\")"
   ]
  },
  {
   "cell_type": "code",
   "execution_count": null,
   "id": "2a13339a",
   "metadata": {},
   "outputs": [],
   "source": [
    "\"\"\"\n",
    "Update parameters\n",
    "\"\"\"\n",
    "COLLECTION = \"MekaVerse\"\n",
    "ST_DEVS = 3 # set number of st devs away from mean offer\n",
    "MINT_PRICE = 0.2\n",
    "\n",
    "\"\"\"\n",
    "Plot params\n",
    "\"\"\"\n",
    "plt.rcParams[\"figure.figsize\"] = [15, 5]\n",
    "plt.rcParams[\"figure.autolayout\"] = True\n",
    "\n",
    "\n",
    "\"\"\"\n",
    "Import pre-reveal sales and bids\n",
    "\"\"\"\n",
    "bids = pd.read_csv(f\"pre-reveal_bids/{COLLECTION}_pre-reveal_bids.csv\")\n",
    "sales = pd.read_csv(f\"pre-reveal_sales/{COLLECTION}_pre-reveal_sales.csv\")\n",
    "\n",
    "\n",
    "\"\"\"\n",
    "Helper functions\n",
    "\"\"\"\n",
    "def get_mean(offers):\n",
    "    return np.mean(offers)\n",
    "\n",
    "def get_st_dev(offers):\n",
    "    return np.std(offers)\n",
    "\n",
    "def find_anomalous_sale(sale_price, mean, std):\n",
    "    if sale_price > (mean + ST_DEVS * std):\n",
    "        return True\n",
    "    else:\n",
    "        return False\n",
    "    \n",
    "def percentage_change(col1, col2):\n",
    "    return ((col2 - col1) / col1) * 100"
   ]
  },
  {
   "cell_type": "code",
   "execution_count": null,
   "id": "bbda7848",
   "metadata": {},
   "outputs": [],
   "source": [
    "\"\"\"\n",
    "Print overpaid tokens relative to mean offer price\n",
    "\"\"\"\n",
    "\n",
    "overpaid_tokens = list()\n",
    "\n",
    "for token in bids[\"TOKEN_ID\"].unique():\n",
    "    offers = bids[bids[\"TOKEN_ID\"] == token][\"OFFER\"]\n",
    "    if len(offers) > 5:\n",
    "        mean = get_mean(offers)\n",
    "        std = get_st_dev(offers)\n",
    "        if len(sales[sales[\"TOKEN_ID\"] == token]) > 0:\n",
    "            sale_price = sales[sales[\"TOKEN_ID\"] == token].iloc[0][\"PRICE\"]\n",
    "            rank = sales[sales[\"TOKEN_ID\"] == token].iloc[0][\"RANK\"]\n",
    "            user = sales[sales[\"TOKEN_ID\"] == token].iloc[0][\"USER\"]\n",
    "            if find_anomalous_sale(sale_price, mean, std):\n",
    "                print(f\"Token: {token}, Mean Offer: {mean}, Sale Price: {sale_price}, Rank: {rank}, User: {user}\")\n",
    "                overpaid_tokens.append(token)\n",
    "        else:\n",
    "            continue"
   ]
  },
  {
   "cell_type": "code",
   "execution_count": null,
   "id": "e2158c4b",
   "metadata": {},
   "outputs": [],
   "source": [
    "\"\"\"\n",
    "Show distribution of offers and sale prices\n",
    "\"\"\"\n",
    "\n",
    "for token in overpaid_tokens:\n",
    "    \n",
    "    token_bids = bids[bids[\"TOKEN_ID\"] == token].copy()\n",
    "    token_sales = sales[sales[\"TOKEN_ID\"] == token].copy()\n",
    "\n",
    "    ax = sns.kdeplot(token_bids[\"OFFER\"], fill=True)\n",
    "\n",
    "    xmin, xmax, ymin, ymax = plt.axis()\n",
    "\n",
    "    for index, row in token_sales.iterrows():\n",
    "        plt.plot([row[\"PRICE\"], row[\"PRICE\"]], [0, ymax], 'r', label=\"SALE PRICE\", linestyle=\"dashed\")\n",
    "    \n",
    "    plt.title(token)\n",
    "    plt.show()"
   ]
  },
  {
   "cell_type": "code",
   "execution_count": null,
   "id": "b21bc805",
   "metadata": {},
   "outputs": [],
   "source": [
    "\"\"\"\n",
    "Show offers that are significantly above mint price\n",
    "\"\"\"\n",
    "\n",
    "bids[\"MINT\"] = MINT_PRICE\n",
    "bids[\"OVER_MINT_PERC\"] = percentage_change(bids[\"MINT\"], bids[\"OFFER\"])\n",
    "bids.sort_values(by=\"OVER_MINT_PERC\", ascending=False, inplace=True)\n",
    "bids.head(40)"
   ]
  },
  {
   "cell_type": "code",
   "execution_count": null,
   "id": "f6e3c0a0",
   "metadata": {},
   "outputs": [],
   "source": []
  }
 ],
 "metadata": {
  "kernelspec": {
   "display_name": "Python 3 (ipykernel)",
   "language": "python",
   "name": "python3"
  },
  "language_info": {
   "codemirror_mode": {
    "name": "ipython",
    "version": 3
   },
   "file_extension": ".py",
   "mimetype": "text/x-python",
   "name": "python",
   "nbconvert_exporter": "python",
   "pygments_lexer": "ipython3",
   "version": "3.8.8"
  }
 },
 "nbformat": 4,
 "nbformat_minor": 5
}
