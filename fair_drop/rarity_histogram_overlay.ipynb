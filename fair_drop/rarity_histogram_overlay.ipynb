{
 "cells": [
  {
   "cell_type": "code",
   "execution_count": null,
   "id": "3de7df97-5f1f-433d-803a-33b3aad86866",
   "metadata": {},
   "outputs": [],
   "source": [
    "\"\"\"\n",
    "@author: mdigi14\n",
    "\"\"\"\n",
    "\n",
    "import pandas as pd\n",
    "from matplotlib import pyplot as plt\n",
    "\n",
    "\"\"\"\n",
    "Update Parameters Here\n",
    "\"\"\"\n",
    "COLLECTION = \"DogeX\"\n",
    "grifter_address = \"0x2913e0b55f2f2ca7331611d2b45c8b0feecf082a\"\n",
    "\n",
    "\"\"\"\n",
    "Plot params\n",
    "\"\"\"\n",
    "plt.rcParams.update({\"figure.facecolor\": \"white\", \"savefig.facecolor\": \"white\"})"
   ]
  },
  {
   "cell_type": "code",
   "execution_count": null,
   "id": "b0e71c4c",
   "metadata": {},
   "outputs": [],
   "source": [
    "\"\"\"\n",
    "Generate Plot\n",
    "\"\"\"\n",
    "\n",
    "minting = pd.read_csv(\"../minting_data/{}_minting.csv\".format(COLLECTION))\n",
    "grifter_minting = minting[minting[\"to_account\"] == grifter_address]\n",
    "grifter_mint_count = len(grifter_minting)\n",
    "\n",
    "minted_as_much = minting.groupby(\"to_account\").filter(\n",
    "    lambda x: x[\"to_account\"].count() >= grifter_mint_count\n",
    ")  # try to find non-grifter with similiar mint count (greater or equal)\n",
    "minted_as_much = minted_as_much[\n",
    "    minted_as_much[\"to_account\"] != grifter_address\n",
    "]  # exclude grifter\n",
    "\n",
    "closest_list = minted_as_much[\"to_account\"].value_counts(ascending=True).index.tolist()\n",
    "non_grifter_address = closest_list[\n",
    "    6\n",
    "]  # arbitrarily picked 7th closest mint count bc it is the first with uniform-ish distribution\n",
    "non_grifter_minting = minting[minting[\"to_account\"] == non_grifter_address]\n",
    "\n",
    "print(\"Grifter sample size: \", grifter_mint_count)\n",
    "print(\"Non grifter sample size: \", len(non_grifter_minting))\n",
    "\n",
    "plt.figure(figsize=(14, 7))\n",
    "plt.hist(\n",
    "    non_grifter_minting[\"rank\"],\n",
    "    bins=10,\n",
    "    alpha=0.5,\n",
    "    color=\"b\",\n",
    "    label=\"Non-Grifter\",\n",
    "    histtype=\"step\",\n",
    ")\n",
    "plt.hist(\n",
    "    grifter_minting[\"rank\"],\n",
    "    bins=10,\n",
    "    alpha=0.5,\n",
    "    color=\"r\",\n",
    "    label=\"Grifter\",\n",
    "    histtype=\"step\",\n",
    ")\n",
    "plt.legend(loc=\"upper right\")\n",
    "plt.xlabel(\"Rarity Rank (lower rank is better)\")\n",
    "plt.ylabel(\"Frequency\")\n",
    "plt.title(\"{} - Tokens minted per Rarity bucket\".format(COLLECTION))\n",
    "plt.show()"
   ]
  }
 ],
 "metadata": {
  "kernelspec": {
   "display_name": "Python 3",
   "language": "python",
   "name": "python3"
  },
  "language_info": {
   "codemirror_mode": {
    "name": "ipython",
    "version": 3
   },
   "file_extension": ".py",
   "mimetype": "text/x-python",
   "name": "python",
   "nbconvert_exporter": "python",
   "pygments_lexer": "ipython3",
   "version": "3.7.6"
  }
 },
 "nbformat": 4,
 "nbformat_minor": 5
}
