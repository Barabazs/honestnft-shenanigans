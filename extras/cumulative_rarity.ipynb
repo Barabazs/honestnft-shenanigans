{
 "cells": [
  {
   "cell_type": "code",
   "execution_count": null,
   "id": "b97658a1-c385-4716-92d1-c67fcc17ad61",
   "metadata": {},
   "outputs": [],
   "source": [
    "import pandas as pd\n",
    "import matplotlib.pyplot as plt\n",
    "import matplotlib.cm as cm\n",
    "import numpy as np\n",
    "import os\n",
    "\n",
    "\"\"\"\n",
    "Update Parameters Here\n",
    "\"\"\"\n",
    "# This doesnt usually change\n",
    "METHOD = \"raritytools\"\n",
    "TOKEN_COL = \"TOKEN_ID\"\n",
    "\n",
    "# These are parameters for a basic pricing function\n",
    "A = -0.9\n",
    "K = 1\n",
    "B = 5\n",
    "v = 1\n",
    "Q = 1.1\n",
    "C = 1\n",
    "\n",
    "# Enter the collection you want to run here\n",
    "FILE = \"quaks\"\n",
    "PATH = \"../metadata/rarity_data/{}_raritytools.csv\".format(FILE)"
   ]
  },
  {
   "cell_type": "code",
   "execution_count": null,
   "id": "a28236eb-59b2-41f8-a41e-94d695e3d13c",
   "metadata": {},
   "outputs": [],
   "source": [
    "\"\"\"\n",
    "Generate Plot\n",
    "\"\"\"\n",
    "\n",
    "RARITY_DATABASE = PATH\n",
    "RARITY_DB = pd.read_csv(RARITY_DATABASE)\n",
    "RARITY_DB = RARITY_DB[RARITY_DB[\"TOKEN_ID\"].duplicated() == False]\n",
    "\n",
    "if TOKEN_COL == \"TOKEN_NAME\":\n",
    "    RARITY_DB[\"TOKEN_ID\"] = RARITY_DB[\"TOKEN_NAME\"].str.split(\"#\").str[1].astype(int)\n",
    "\n",
    "RARITY_DB[\"VALUE\"] = A + (\n",
    "    (K - A) / np.power((C + Q * np.exp(-B * (1 / RARITY_DB[\"Rank\"]))), 1 / v)\n",
    ")\n",
    "RARITY_DB[\"VALUE\"] = np.where(RARITY_DB[\"Rank\"] > 96 * 2, 0, RARITY_DB[\"VALUE\"])\n",
    "RARITY_DB[[\"Rank\", \"VALUE\"]].sort_values(\"Rank\")\n",
    "\n",
    "RARITY_DB = RARITY_DB.sort_values(\"TOKEN_ID\")\n",
    "RARITY_DB[\"EXPANDING_VALUE\"] = RARITY_DB[\"VALUE\"].expanding().sum()\n",
    "RARITY_DB.plot(\n",
    "    x=\"TOKEN_ID\",\n",
    "    y=\"EXPANDING_VALUE\",\n",
    "    grid=True,\n",
    "    figsize=(14, 7),\n",
    "    title=\"{} - Cumulative Rarity Score\".format(FILE),\n",
    ")"
   ]
  }
 ],
 "metadata": {
  "kernelspec": {
   "display_name": "Python 3",
   "language": "python",
   "name": "python3"
  },
  "language_info": {
   "codemirror_mode": {
    "name": "ipython",
    "version": 3
   },
   "file_extension": ".py",
   "mimetype": "text/x-python",
   "name": "python",
   "nbconvert_exporter": "python",
   "pygments_lexer": "ipython3",
   "version": "3.7.6"
  }
 },
 "nbformat": 4,
 "nbformat_minor": 5
}
