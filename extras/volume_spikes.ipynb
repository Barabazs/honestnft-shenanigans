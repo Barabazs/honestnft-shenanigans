{
 "cells": [
  {
   "cell_type": "code",
   "execution_count": null,
   "id": "c557d29a-1199-4063-8151-bfeb6f1d0a9e",
   "metadata": {},
   "outputs": [],
   "source": [
    "import pandas as pd\n",
    "import datetime\n",
    "import matplotlib.pyplot as plt\n",
    "import numpy as np\n",
    "\n",
    "\"\"\"\n",
    "Update Parameters Here\n",
    "\"\"\"\n",
    "COLLECTION_NAME = \"quaks\"\n",
    "CONTRACT = \"0x07bbdaf30e89ea3ecf6cadc80d6e7c4b0843c729\"\n",
    "METHOD = \"raritytools\"\n",
    "\n",
    "# Need to updte these depending on the collection\n",
    "START_TIME = datetime.datetime.strptime(\"2021-08-24T21:18:00\", \"%Y-%m-%dT%H:%M:%S\")\n",
    "LAST_MINT = datetime.datetime.strptime(\"2021-09-01T04:38:00\", \"%Y-%m-%dT%H:%M:%S\")\n",
    "TOP_N = 1000\n",
    "TIME_DELTA = 1  # length of a single mint window\n",
    "\n",
    "# Need to update this with list of addresses that you saw with hits\n",
    "hits = []"
   ]
  },
  {
   "cell_type": "code",
   "execution_count": null,
   "id": "407ed478-e9c9-4957-ba66-0804c0dbbb54",
   "metadata": {
    "scrolled": false
   },
   "outputs": [],
   "source": [
    "\"\"\"\n",
    "Generate Plot\n",
    "\"\"\"\n",
    "RARITY_CSV = \"../metadata/rarity_data/{}_{}.csv\".format(COLLECTION_NAME, METHOD)\n",
    "RARITY_DB = pd.read_csv(RARITY_CSV)\n",
    "MINT_DB = pd.read_csv(\"../minting_data/{}_minting.csv\".format(COLLECTION_NAME))\n",
    "\n",
    "MINT_DB = MINT_DB[MINT_DB[\"to_account\"].isin(hits)]\n",
    "\n",
    "\n",
    "MINT_DB[\"time\"] = pd.to_datetime(MINT_DB[\"time\"], format=\"%Y-%m-%dT%H:%M:%S\")\n",
    "MINT_DB = MINT_DB.sort_values(by=[\"time\"])\n",
    "\n",
    "\n",
    "time_diff = LAST_MINT - START_TIME\n",
    "total_seconds = time_diff.total_seconds()\n",
    "minutes = total_seconds / 60\n",
    "iterations = int(minutes / TIME_DELTA)\n",
    "print(\"Number of time blocks: \", iterations)\n",
    "current_time = START_TIME\n",
    "count = 0\n",
    "\n",
    "\n",
    "dict_list = []\n",
    "for i in range(0, iterations):\n",
    "    new_time = current_time + datetime.timedelta(minutes=TIME_DELTA)\n",
    "\n",
    "    sliding_window = MINT_DB[\n",
    "        (MINT_DB[\"time\"] < new_time) & (MINT_DB[\"time\"] > current_time)\n",
    "    ]\n",
    "\n",
    "    rarest_token_rank = sliding_window[\"rank\"].min()\n",
    "\n",
    "    data = {\n",
    "        \"starting_time\": current_time,\n",
    "        \"ending_time\": new_time,\n",
    "        \"mints\": len(sliding_window),\n",
    "        \"lowest_rank_in_window\": rarest_token_rank,\n",
    "    }\n",
    "\n",
    "    dict_list.append(data)\n",
    "    count += data[\"mints\"]\n",
    "    current_time = new_time\n",
    "\n",
    "volume_data = pd.DataFrame(dict_list)\n",
    "\n",
    "volume_data.to_csv(\"volume_spikes/{}_volume.csv\".format(COLLECTION_NAME))\n",
    "\n",
    "fig, ax = plt.subplots(1, 1, figsize=(14, 7))\n",
    "plt.bar(volume_data[\"starting_time\"], volume_data[\"mints\"], width=0.01)\n",
    "plt.xlabel(\"time\", fontsize=12)\n",
    "plt.ylabel(\"minted in window\", fontsize=12)\n",
    "ax.set_xticks(ax.get_xticks()[::2])"
   ]
  }
 ],
 "metadata": {
  "kernelspec": {
   "display_name": "Python 3",
   "language": "python",
   "name": "python3"
  },
  "language_info": {
   "codemirror_mode": {
    "name": "ipython",
    "version": 3
   },
   "file_extension": ".py",
   "mimetype": "text/x-python",
   "name": "python",
   "nbconvert_exporter": "python",
   "pygments_lexer": "ipython3",
   "version": "3.7.6"
  }
 },
 "nbformat": 4,
 "nbformat_minor": 5
}
