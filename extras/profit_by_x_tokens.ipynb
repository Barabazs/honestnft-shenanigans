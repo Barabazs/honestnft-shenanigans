{
 "cells": [
  {
   "cell_type": "code",
   "execution_count": null,
   "id": "19e35120-eba8-4ce5-b115-99234bab0398",
   "metadata": {},
   "outputs": [],
   "source": [
    "import requests\n",
    "import pandas as pd\n",
    "\n",
    "\"\"\"\n",
    "Update Parameters Here\n",
    "\"\"\"\n",
    "# Enter the collection you want to run here\n",
    "COLLECTION = \"MekaVerse\"\n",
    "SALES_DATA = f\"../fair_drop/pre-reveal_sales/{COLLECTION}_pre-reveal_sales.csv\"\n",
    "\n",
    "# Set collection parameters here\n",
    "MINT_PRICE = 0.06\n",
    "MAX_TOKEN_ID = 10000"
   ]
  },
  {
   "cell_type": "code",
   "execution_count": null,
   "id": "5152d5c2-3d6b-4872-943e-c2848614326b",
   "metadata": {},
   "outputs": [],
   "source": [
    "\"\"\"\n",
    "Generate Dataset\n",
    "\"\"\"\n",
    "sales = pd.read_csv(\"{}\".format(SALES_DATA))\n",
    "\n",
    "price_dict = pd.Series(sales[\"PRICE\"].values, index=sales[\"TOKEN_ID\"]).to_dict()\n",
    "seen = set(sales[\"TOKEN_ID\"])\n",
    "\n",
    "for i in range(0, MAX_TOKEN_ID):\n",
    "    if i not in seen:\n",
    "        price_dict[i] = 0.06\n",
    "\n",
    "dict_list = []\n",
    "for i in range(0, MAX_TOKEN_ID):\n",
    "    dict_entry = {\"id\": i, \"profit\": price_dict[i] - 0.06}\n",
    "\n",
    "    dict_list.append(dict_entry)\n",
    "\n",
    "\n",
    "profits = pd.DataFrame(dict_list)\n",
    "profits = profits.sort_values(by=[\"id\"])\n",
    "profits.to_csv(\"{}_profits.csv\".format(COLLECTION))"
   ]
  }
 ],
 "metadata": {
  "kernelspec": {
   "display_name": "Python 3",
   "language": "python",
   "name": "python3"
  },
  "language_info": {
   "codemirror_mode": {
    "name": "ipython",
    "version": 3
   },
   "file_extension": ".py",
   "mimetype": "text/x-python",
   "name": "python",
   "nbconvert_exporter": "python",
   "pygments_lexer": "ipython3",
   "version": "3.7.6"
  }
 },
 "nbformat": 4,
 "nbformat_minor": 5
}
