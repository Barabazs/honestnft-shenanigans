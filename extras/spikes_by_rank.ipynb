{
 "cells": [
  {
   "cell_type": "code",
   "execution_count": null,
   "id": "989010c6-c48b-4a86-960b-07a61584f019",
   "metadata": {},
   "outputs": [],
   "source": [
    "import pandas as pd\n",
    "import datetime\n",
    "import matplotlib.pyplot as plt\n",
    "import numpy as np\n",
    "\n",
    "\"\"\"\n",
    "Update Parameters Here\n",
    "\"\"\"\n",
    "COLLECTION_NAME = \"quaks\"\n",
    "CONTRACT = \"0x07bbdaf30e89ea3ecf6cadc80d6e7c4b0843c729\"\n",
    "\n",
    "# This doesnt usually change\n",
    "METHOD = \"raritytools\"\n",
    "\n",
    "# Need to updte these depending on the collection\n",
    "START_TIME = datetime.datetime.strptime(\"2021-07-27T21:20:47\", \"%Y-%m-%dT%H:%M:%S\")\n",
    "LAST_MINT = datetime.datetime.strptime(\"2021-08-02T06:05:00\", \"%Y-%m-%dT%H:%M:%S\")\n",
    "TIME_DELTA = 0.5  # length of a single mint window"
   ]
  },
  {
   "cell_type": "code",
   "execution_count": null,
   "id": "cee5045e",
   "metadata": {},
   "outputs": [],
   "source": [
    "\"\"\"\n",
    "Generate Dataset\n",
    "\"\"\"\n",
    "RARITY_CSV = \"../metadata/rarity_data/{}_{}.csv\".format(COLLECTION_NAME, METHOD)\n",
    "RARITY_DB = pd.read_csv(RARITY_CSV)\n",
    "MINT_DB = pd.read_csv(\"../minting_data/{}_minting.csv\".format(COLLECTION_NAME))\n",
    "\n",
    "MINT_DB[\"time\"] = pd.to_datetime(MINT_DB[\"time\"], format=\"%Y-%m-%dT%H:%M:%S\")\n",
    "MINT_DB = MINT_DB.sort_values(by=[\"rank\"])\n",
    "\n",
    "\n",
    "MINT_DB[\"before_time\"] = MINT_DB[\"time\"] - datetime.timedelta(minutes=TIME_DELTA)\n",
    "MINT_DB[\"after_time\"] = MINT_DB[\"time\"] + datetime.timedelta(minutes=TIME_DELTA)\n",
    "\n",
    "after_time = MINT_DB[\"after_time\"]\n",
    "before_time = MINT_DB[\"before_time\"]\n",
    "time = MINT_DB[\"time\"]\n",
    "\n",
    "minted_in_epoch = []\n",
    "\n",
    "for i in range(0, len(before_time)):\n",
    "    sliding_window = MINT_DB[\n",
    "        (MINT_DB[\"time\"] > before_time[i]) & (MINT_DB[\"time\"] < time[i])\n",
    "    ]\n",
    "    minted_in_epoch.append(len(sliding_window))\n",
    "\n",
    "MINT_DB[\"minted\"] = minted_in_epoch\n",
    "\n",
    "MINT_DB.to_csv(\"output.csv\")"
   ]
  },
  {
   "cell_type": "code",
   "execution_count": null,
   "id": "c2def3c4-d30d-4c3f-8521-0176f10d9363",
   "metadata": {},
   "outputs": [],
   "source": [
    "\"\"\"\n",
    "Generate Plot\n",
    "\"\"\"\n",
    "fig, ax = plt.subplots(1, 1, figsize=(14, 7))\n",
    "plt.bar(MINT_DB[\"rank\"], MINT_DB[\"minted\"], width=0.3)\n",
    "plt.xlabel(\"rank\", fontsize=12)\n",
    "plt.ylabel(\"minted in window\", fontsize=12)\n",
    "ax.set_xticks(ax.get_xticks()[::2])\n",
    "plt.xlim(0, 10000)"
   ]
  }
 ],
 "metadata": {
  "kernelspec": {
   "display_name": "Python 3",
   "language": "python",
   "name": "python3"
  },
  "language_info": {
   "codemirror_mode": {
    "name": "ipython",
    "version": 3
   },
   "file_extension": ".py",
   "mimetype": "text/x-python",
   "name": "python",
   "nbconvert_exporter": "python",
   "pygments_lexer": "ipython3",
   "version": "3.7.6"
  }
 },
 "nbformat": 4,
 "nbformat_minor": 5
}
